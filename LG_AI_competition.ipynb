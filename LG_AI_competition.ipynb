{
 "cells": [
  {
   "attachments": {},
   "cell_type": "markdown",
   "metadata": {},
   "source": [
    "### Pytorch code"
   ]
  },
  {
   "attachments": {},
   "cell_type": "markdown",
   "metadata": {},
   "source": [
    "#### 코드에 새로 성별, cast 정보 등의 코드 추가"
   ]
  },
  {
   "cell_type": "code",
   "execution_count": null,
   "metadata": {
    "id": "iHstgRfiYU1G"
   },
   "outputs": [],
   "source": [
    "# 패키지 로드\n",
    "import warnings\n",
    "warnings.filterwarnings('ignore')\n",
    "\n",
    "import numpy as np\n",
    "import pandas as pd\n",
    "from tqdm.notebook import tqdm\n",
    "from sklearn.model_selection import train_test_split\n",
    "from collections import defaultdict\n",
    "import os, random\n",
    "\n",
    "from scipy import sparse\n",
    "from sklearn.preprocessing import LabelEncoder\n",
    "import matplotlib.pyplot as plt\n",
    "%matplotlib inline\n",
    "\n",
    "import torch\n",
    "import torch.nn as nn\n",
    "from torch.nn.init import normal_\n",
    "from torch.utils.data import TensorDataset, DataLoader\n",
    "import torch.nn.functional as F"
   ]
  },
  {
   "cell_type": "code",
   "execution_count": null,
   "metadata": {},
   "outputs": [],
   "source": [
    "# 하이퍼파라미터 \n",
    "class cfg: \n",
    "    gpu_idx = 0\n",
    "    device = torch.device(\"cuda:{}\".format(gpu_idx) if torch.cuda.is_available() else \"cpu\")\n",
    "    top_k = 25\n",
    "    seed = 42\n",
    "    neg_ratio = 100\n",
    "    test_size = 0.2"
   ]
  },
  {
   "cell_type": "code",
   "execution_count": null,
   "metadata": {
    "id": "5GrHkU7AYU1I"
   },
   "outputs": [],
   "source": [
    "# 시드 고정 \n",
    "def seed_everything(random_seed):\n",
    "    torch.manual_seed(random_seed)\n",
    "    torch.cuda.manual_seed(random_seed)\n",
    "    torch.cuda.manual_seed_all(random_seed)\n",
    "    torch.backends.cudnn.deterministic = True\n",
    "    torch.backends.cudnn.benchmark = False\n",
    "    np.random.seed(random_seed)\n",
    "    random.seed(random_seed)\n",
    "    \n",
    "seed_everything(cfg.seed)"
   ]
  },
  {
   "cell_type": "code",
   "execution_count": null,
   "metadata": {},
   "outputs": [],
   "source": [
    "# 경로 설정\n",
    "data_path = 'C:/Users/NTX550/Desktop/LG_AI공모전/final_dt/data/'\n",
    "saved_path = 'C:/Users/NTX550/Desktop/LG_AI공모전/final_dt/code/saved/'\n",
    "output_path = 'C:/Users/NTX550/Desktop/LG_AI공모전/final_dt/code/submission'"
   ]
  },
  {
   "cell_type": "code",
   "execution_count": null,
   "metadata": {},
   "outputs": [],
   "source": [
    "# 데이터 전처리 (중복제거) \n",
    "# 참고 : drop_duplicates의 subset을 무엇으로 구성하냐에 따라서 제거되는 항목들이 다름 \n",
    "# ex) 'profile_id', 'album_id' : 중복된 시청이력 모두 제거 / 'profile_id', 'album_id', 'log_time' : 같은 시간에 시청한 이력만 제거 \n",
    "data = history_df[['profile_id', 'log_time', 'album_id']].drop_duplicates(subset=['profile_id', 'album_id', 'log_time'])\n",
    "data = data.sort_values(by = ['profile_id', 'log_time'])\n",
    "data.reset_index(drop = True, inplace = True)\n",
    "\n",
    "# 상영한 영상에 대해 Rating 1 부여 \n",
    "data['rating'] = 1\n",
    "\n",
    "cfg.n_users = data.profile_id.max()+1\n",
    "cfg.n_items = data.album_id.max()+1"
   ]
  },
  {
   "cell_type": "code",
   "execution_count": null,
   "metadata": {},
   "outputs": [],
   "source": [
    "# log_time 컬럼 중, 이상치 변환\n",
    "def time_preprocessing(t):\n",
    "    s = int(str(t)[-2:])\n",
    "    m = int(str(t)[-4:-2])\n",
    "    h = int(str(t)[-6:-4])\n",
    "    if s >= 60:\n",
    "        m += s//60\n",
    "        s %= 60\n",
    "    if m >= 60:\n",
    "        h += m//60\n",
    "        m %= 60\n",
    "    if h >= 24:\n",
    "        h = 23\n",
    "        m = 59\n",
    "        s = 59\n",
    "    return str(t)[:-6] + str(h).zfill(2) + str(m).zfill(2) + str(s).zfill(2)\n",
    "\n",
    "for df in [history_df, watch_df, search_df]:\n",
    "    for col in [\"ss_id\", \"log_time\"]:\n",
    "        df[col] = df[col].apply(lambda x: time_preprocessing(x))\n",
    "        df[col] = df[col].apply(lambda x: datetime.datetime.strptime(str(x),\"%Y%m%d%H%M%S\"))"
   ]
  },
  {
   "cell_type": "code",
   "execution_count": null,
   "metadata": {},
   "outputs": [],
   "source": [
    "# history_df와 search_df를 merge... 단, log_time이 다름에 주의해야함.\n",
    "temp_h = history_df.copy()\n",
    "temp_s = search_df.copy()\n",
    "\n",
    "# join을 위해 년월일 시까지만 고려.\n",
    "temp_h[\"log_for_join\"] = temp_h[\"log_time\"].apply(lambda x: datetime.datetime.strftime(x, \"%Y%m%d%H\"))\n",
    "temp_s[\"log_for_join\"] = temp_s[\"log_time\"].apply(lambda x: datetime.datetime.strftime(x, \"%Y%m%d%H\"))\n",
    "temp_s.drop(columns=[\"log_time\"], inplace=True)\n",
    "\n",
    "merged_df = pd.merge(temp_h, temp_s, how='left', \n",
    "                     on=[\"profile_id\",\"ss_id\", \"log_for_join\", \"album_id\"])\n",
    "merged_df"
   ]
  },
  {
   "cell_type": "code",
   "execution_count": null,
   "metadata": {},
   "outputs": [],
   "source": [
    "# merged_df와 watch_df를 merge ... 단, log_time이 다름.\n",
    "temp_m = merged_df.copy()\n",
    "temp_w = watch_df.copy()\n",
    "\n",
    "temp_m = pd.merge(temp_m, temp_w, how='inner',\n",
    "                  on=[\"profile_id\",\"ss_id\", \"album_id\"])\n",
    "temp_m"
   ]
  },
  {
   "cell_type": "code",
   "execution_count": null,
   "metadata": {},
   "outputs": [],
   "source": [
    "# log_diff 와 watch_time 간, 차이가 큰 경우를 중복데이터 및 이상치로 판단하여 해당 rows 제거.\n",
    "# 일단 log_diff가 양수인 경우만 고려.\n",
    "temp_m = temp_m[temp_m[\"log_diff\"] >= 0]\n",
    "temp_m"
   ]
  },
  {
   "cell_type": "code",
   "execution_count": null,
   "metadata": {},
   "outputs": [],
   "source": [
    "# 콘텐츠 전체 길이에 대한 시청 비율 컬럼을 추가\n",
    "temp_m[\"time_ratio\"] = temp_m[\"watch_time\"] / temp_m[\"total_time\"]"
   ]
  },
  {
   "cell_type": "code",
   "execution_count": null,
   "metadata": {},
   "outputs": [],
   "source": [
    "# 데이터 전처리 (중복제거) \n",
    "# 참고 : drop_duplicates의 subset을 무엇으로 구성하냐에 따라서 제거되는 항목들이 다름 \n",
    "# ex) 'profile_id', 'album_id' : 중복된 시청이력 모두 제거 / 'profile_id', 'album_id', 'log_time' : 같은 시간에 시청한 이력만 제거 \n",
    "data = history_df[['profile_id', 'log_time', 'album_id']].drop_duplicates(subset=['profile_id', 'album_id', 'log_time']).sort_values(by = ['profile_id', 'log_time']).reset_index(drop = True)\n",
    "data['rating'] = 1\n",
    "\n",
    "# Matrix 형태로 변환 \n",
    "train = train.to_numpy()\n",
    "matrix = sparse.lil_matrix((cfg.n_users, cfg.n_items))\n",
    "for (p, _, i, r) in tqdm(train):\n",
    "    matrix[p, i] = r"
   ]
  },
  {
   "cell_type": "code",
   "execution_count": null,
   "metadata": {},
   "outputs": [],
   "source": [
    "#기존과 다르게 cast에 대한 정보 추가\n",
    "\n",
    "le = LabelEncoder()\n",
    "meta_df['cast_1'] = le.fit_transform(meta_df['cast_1'])\n",
    "item_features['cast_1'] = meta_df[['cast_1']].to_dict()['cast_1']\n",
    "\n",
    "cfg.n_cast = meta_df['cast_1'].nunique()\n",
    "cfg.n_continuous_feats = 1"
   ]
  },
  {
   "cell_type": "code",
   "execution_count": null,
   "metadata": {},
   "outputs": [],
   "source": [
    "# 새로 작성한 코드만 \n",
    "\n",
    "cast_embedding_mlp = self.cast_embeddig(feats[2])\n",
    "        ###########################################################################\n",
    "input_feature = torch.cat((user_embedding_mlp, item_embedding_mlp, genre_embedding_mlp, cast_embedding_mlp, feats[0].unsqueeze(1)), -1)\n",
    "mlp_output = self.mlp_layers(input_feature)\n",
    "        \n",
    "output = torch.cat([mlp_output, mf_output], dim=-1)\n",
    "output = self.affine_output(output).squeeze(-1)\n",
    "\n",
    "features = []\n",
    "for item_id in np.concatenate([pos_item_ids, neg_item_ids]): \n",
    "        features.append(item_features['cast_1'][item_id])\n",
    "        \n",
    "UIdataset[user_id].append(np.array(features))"
   ]
  },
  {
   "cell_type": "code",
   "execution_count": null,
   "metadata": {},
   "outputs": [
    {
     "name": "stdout",
     "output_type": "stream",
     "text": [
      "학습 데이터 크기: (719401, 4)\n",
      "검증 데이터 크기: (179851, 4)\n"
     ]
    }
   ],
   "source": [
    "# 학습 및 검증 데이터 분리\n",
    "train, valid = train_test_split(\n",
    "    data, test_size=cfg.test_size, random_state=cfg.seed)"
   ]
  },
  {
   "cell_type": "code",
   "execution_count": null,
   "metadata": {},
   "outputs": [
    {
     "data": {
      "application/vnd.jupyter.widget-view+json": {
       "model_id": "83d5f93ff3804a8fbf8a3c87bd11a8ee",
       "version_major": 2,
       "version_minor": 0
      },
      "text/plain": [
       "  0%|          | 0/719401 [00:00<?, ?it/s]"
      ]
     },
     "metadata": {},
     "output_type": "display_data"
    },
    {
     "name": "stdout",
     "output_type": "stream",
     "text": [
      "train 형태: \n",
      " [[0. 0. 0. ... 0. 0. 0.]\n",
      " [0. 0. 0. ... 0. 0. 0.]\n",
      " [0. 0. 0. ... 0. 0. 0.]\n",
      " ...\n",
      " [0. 0. 0. ... 0. 0. 0.]\n",
      " [0. 0. 0. ... 0. 0. 0.]\n",
      " [0. 0. 0. ... 0. 0. 0.]]\n"
     ]
    }
   ],
   "source": [
    "# Matrix 형태로 변환(가로 축 : 유저 데이터, 세로 축 : 아이템 데이터) - 추천 시스템의 형태\n",
    "train = train.to_numpy()\n",
    "matrix = sparse.lil_matrix((cfg.n_users, cfg.n_items))\n",
    "for (p, _, i, r) in train:\n",
    "    matrix[p, i] = r\n",
    "    \n",
    "train = sparse.csr_matrix(matrix)\n",
    "train = train.toarray()\n",
    "print(\"train 형태: \\n\", train)"
   ]
  },
  {
   "cell_type": "code",
   "execution_count": null,
   "metadata": {},
   "outputs": [],
   "source": [
    "# 유저 특징 정보 추출 \n",
    "profile_df = profile_df.set_index('profile_id')\n",
    "user_features = profile_df[['age']].to_dict()\n",
    "\n",
    "# 아이템 특징 정보 추출 \n",
    "meta_df = meta_df.set_index('album_id')\n",
    "\n",
    "# 범주형 데이터를 수치형 데이터로 변경 \n",
    "le = LabelEncoder()\n",
    "meta_df['genre_mid'] = le.fit_transform(meta_df['genre_mid'])\n",
    "item_features = meta_df[['genre_mid']].to_dict()\n",
    "\n",
    "# 추출한 특징 정보의 속성을 저장 \n",
    "cfg.n_genres = meta_df['genre_mid'].nunique()\n",
    "cfg.n_continuous_feats = 1 \n",
    "\n",
    "# 성별 데이터 추가 \n",
    "profile_df['sex'] = le.fit_transform(profile_df['sex'])\n",
    "item_features1 = profile_df[['sex']].to_dict()\n",
    "\n",
    "cfg.n_sex = profile_df['sex'].nunique()"
   ]
  },
  {
   "cell_type": "code",
   "execution_count": null,
   "metadata": {},
   "outputs": [],
   "source": [
    "def build_graph(self):\n",
    "\n",
    "    self.user_embedding_mf = nn.Embedding(num_embeddings=self.n_users, embedding_dim=self.emb_dim)\n",
    "    self.item_embedding_mf = nn.Embedding(num_embeddings=self.n_items, embedding_dim=self.emb_dim)\n",
    "        \n",
    "    self.user_embedding_mlp = nn.Embedding(num_embeddings=self.n_users, embedding_dim=self.emb_dim)\n",
    "    self.item_embedding_mlp = nn.Embedding(num_embeddings=self.n_items, embedding_dim=self.emb_dim)\n",
    "                \n",
    "    self.genre_embeddig = nn.Embedding(num_embeddings=self.n_genres, embedding_dim=self.n_genres//2)\n",
    "    self.sex_embedding = nn.Embedding(num_embeddings=self.n_sex, embedding_dim=self.n_sex)\n",
    "        \n",
    "    self.mlp_layers = nn.Sequential(\n",
    "        nn.Linear(2*self.emb_dim + self.n_genres//2 + self.n_sex + self.n_continuous_feats, self.layer_dim), \n",
    "        nn.ReLU(), \n",
    "        nn.Dropout(p=self.dropout), \n",
    "        nn.Linear(self.layer_dim, self.layer_dim//2), \n",
    "        nn.ReLU(), \n",
    "        nn.Dropout(p=self.dropout))\n",
    "\n",
    "    self.affine_output = nn.Linear(self.layer_dim//2 + self.emb_dim, 1)\n",
    "    self.apply(self._init_weights)\n",
    "        \n",
    "\n",
    "def _init_weights(self, module): # pytorch 가중치 초기화\n",
    "    if isinstance(module, nn.Embedding):\n",
    "        normal_(module.weight.data, mean=0.0, std=0.01)\n",
    "    elif isinstance(module, nn.Linear):\n",
    "        normal_(module.weight.data, 0, 0.01)\n",
    "        if module.bias is not None:\n",
    "            module.bias.data.fill_(0.0)\n",
    "    \n",
    "def forward(self, user_indices, item_indices, feats):\n",
    "\n",
    "    user_embedding_mf = self.user_embedding_mf(user_indices)\n",
    "    item_embedding_mf = self.item_embedding_mf(item_indices)\n",
    "    mf_output = torch.mul(user_embedding_mf, item_embedding_mf)\n",
    "        \n",
    "    user_embedding_mlp = self.user_embedding_mlp(user_indices)\n",
    "    item_embedding_mlp = self.item_embedding_mlp(item_indices)\n",
    "    genre_embedding_mlp = self.genre_embeddig(feats[1])\n",
    "    sex_embedding_mlp = self.sex_embedding(feats[2])\n",
    "    input_feature = torch.cat((user_embedding_mlp, item_embedding_mlp, genre_embedding_mlp, sex_embedding_mlp, feats[0].unsqueeze(1)), -1)\n",
    "    mlp_output = self.mlp_layers(input_feature)\n",
    "        \n",
    "    output = torch.cat([mlp_output, mf_output], dim=-1)\n",
    "    output = self.affine_output(output).squeeze(-1)\n",
    "    return output"
   ]
  },
  {
   "cell_type": "code",
   "execution_count": 2,
   "metadata": {},
   "outputs": [],
   "source": [
    "# 코드 저작권으로 개인 작성 코드 위주로 첨부"
   ]
  }
 ],
 "metadata": {
  "kernelspec": {
   "display_name": "Python 3",
   "language": "python",
   "name": "python3"
  },
  "language_info": {
   "codemirror_mode": {
    "name": "ipython",
    "version": 3
   },
   "file_extension": ".py",
   "mimetype": "text/x-python",
   "name": "python",
   "nbconvert_exporter": "python",
   "pygments_lexer": "ipython3",
   "version": "3.10.9"
  },
  "orig_nbformat": 4,
  "vscode": {
   "interpreter": {
    "hash": "aee8b7b246df8f9039afb4144a1f6fd8d2ca17a180786b69acc140d282b71a49"
   }
  }
 },
 "nbformat": 4,
 "nbformat_minor": 2
}
