{
 "cells": [
  {
   "cell_type": "code",
   "execution_count": null,
   "metadata": {},
   "outputs": [],
   "source": [
    "import warnings\n",
    "warnings.filterwarnings('ignore')\n",
    "\n",
    "import numpy as np\n",
    "import pandas as pd\n",
    "from tqdm.notebook import tqdm\n",
    "from sklearn.model_selection import train_test_split\n",
    "from collections import defaultdict\n",
    "import os, random\n",
    "\n",
    "from scipy import sparse\n",
    "from sklearn.preprocessing import LabelEncoder\n",
    "import matplotlib.pyplot as plt\n",
    "%matplotlib inline\n",
    "\n",
    "import torch\n",
    "import torch.nn as nn\n",
    "from torch.nn.init import normal_\n",
    "from torch.utils.data import TensorDataset, DataLoader\n",
    "import torch.nn.functional as F\n",
    "\n",
    "import plotnine\n",
    "from plotnine import *"
   ]
  },
  {
   "cell_type": "code",
   "execution_count": null,
   "metadata": {},
   "outputs": [],
   "source": [
    "# 데이터 불러오기 \n",
    "history_df = pd.read_csv(os.path.join(data_path, 'history_data.csv'), encoding='utf-8')\n",
    "profile_df = pd.read_csv(os.path.join(data_path, 'profile_data.csv'), encoding='utf-8')\n",
    "meta_df = pd.read_csv(os.path.join(data_path, 'meta_data.csv'), encoding='utf-8')"
   ]
  },
  {
   "attachments": {},
   "cell_type": "markdown",
   "metadata": {},
   "source": [
    "### 데이터 전처리"
   ]
  },
  {
   "cell_type": "code",
   "execution_count": null,
   "metadata": {},
   "outputs": [],
   "source": [
    "# log_time 컬럼 중, 이상치 변환\n",
    "def time_preprocessing(t):\n",
    "    s = int(str(t)[-2:])\n",
    "    m = int(str(t)[-4:-2])\n",
    "    h = int(str(t)[-6:-4])\n",
    "    if s >= 60:\n",
    "        m += s//60\n",
    "        s %= 60\n",
    "    if m >= 60:\n",
    "        h += m//60\n",
    "        m %= 60\n",
    "    if h >= 24:\n",
    "        h = 23\n",
    "        m = 59\n",
    "        s = 59\n",
    "    return str(t)[:-6] + str(h).zfill(2) + str(m).zfill(2) + str(s).zfill(2)\n",
    "\n",
    "for df in [history_df, watch_df, search_df]:\n",
    "    for col in [\"ss_id\", \"log_time\"]:\n",
    "        df[col] = df[col].apply(lambda x: time_preprocessing(x))\n",
    "        df[col] = df[col].apply(lambda x: datetime.datetime.strptime(str(x),\"%Y%m%d%H%M%S\"))"
   ]
  },
  {
   "cell_type": "code",
   "execution_count": null,
   "metadata": {},
   "outputs": [],
   "source": [
    "# history_df와 search_df를 merge... 단, log_time이 다름에 주의해야함.\n",
    "temp_h = history_df.copy()\n",
    "temp_s = search_df.copy()\n",
    "\n",
    "# join을 위해 년월일 시까지만 고려.\n",
    "temp_h[\"log_for_join\"] = temp_h[\"log_time\"].apply(lambda x: datetime.datetime.strftime(x, \"%Y%m%d%H\"))\n",
    "temp_s[\"log_for_join\"] = temp_s[\"log_time\"].apply(lambda x: datetime.datetime.strftime(x, \"%Y%m%d%H\"))\n",
    "temp_s.drop(columns=[\"log_time\"], inplace=True)\n",
    "\n",
    "merged_df = pd.merge(temp_h, temp_s, how='left', \n",
    "                     on=[\"profile_id\",\"ss_id\", \"log_for_join\", \"album_id\"])\n",
    "merged_df"
   ]
  },
  {
   "cell_type": "code",
   "execution_count": null,
   "metadata": {},
   "outputs": [],
   "source": [
    "# merged_df와 watch_df를 merge ... 단, log_time이 다름.\n",
    "temp_m = merged_df.copy()\n",
    "temp_w = watch_df.copy()\n",
    "\n",
    "temp_m = pd.merge(temp_m, temp_w, how='inner',\n",
    "                  on=[\"profile_id\",\"ss_id\", \"album_id\"])\n",
    "temp_m"
   ]
  },
  {
   "cell_type": "code",
   "execution_count": null,
   "metadata": {},
   "outputs": [],
   "source": [
    "# log_diff 와 watch_time 간, 차이가 큰 경우를 중복데이터 및 이상치로 판단하여 해당 rows 제거.\n",
    "# 일단 log_diff가 양수인 경우만 고려.\n",
    "temp_m = temp_m[temp_m[\"log_diff\"] >= 0]\n",
    "temp_m"
   ]
  },
  {
   "cell_type": "code",
   "execution_count": null,
   "metadata": {},
   "outputs": [],
   "source": [
    "# 콘텐츠 전체 길이에 대한 시청 비율 컬럼을 추가\n",
    "temp_m[\"time_ratio\"] = temp_m[\"watch_time\"] / temp_m[\"total_time\"]"
   ]
  },
  {
   "cell_type": "code",
   "execution_count": null,
   "metadata": {},
   "outputs": [],
   "source": [
    "# 데이터 전처리 (중복제거) \n",
    "# 참고 : drop_duplicates의 subset을 무엇으로 구성하냐에 따라서 제거되는 항목들이 다름 \n",
    "# ex) 'profile_id', 'album_id' : 중복된 시청이력 모두 제거 / 'profile_id', 'album_id', 'log_time' : 같은 시간에 시청한 이력만 제거 \n",
    "data = history_df[['profile_id', 'log_time', 'album_id']].drop_duplicates(subset=['profile_id', 'album_id', 'log_time']).sort_values(by = ['profile_id', 'log_time']).reset_index(drop = True)\n",
    "data['rating'] = 1\n",
    "\n",
    "# Matrix 형태로 변환 \n",
    "train = train.to_numpy()\n",
    "matrix = sparse.lil_matrix((cfg.n_users, cfg.n_items))\n",
    "for (p, _, i, r) in tqdm(train):\n",
    "    matrix[p, i] = r"
   ]
  },
  {
   "cell_type": "code",
   "execution_count": null,
   "metadata": {},
   "outputs": [],
   "source": [
    "#기존과 다르게 cast에 대한 정보 추가\n",
    "\n",
    "le = LabelEncoder()\n",
    "meta_df['cast_1'] = le.fit_transform(meta_df['cast_1'])\n",
    "item_features['cast_1'] = meta_df[['cast_1']].to_dict()['cast_1']\n",
    "\n",
    "cfg.n_cast = meta_df['cast_1'].nunique()\n",
    "cfg.n_continuous_feats = 1"
   ]
  },
  {
   "cell_type": "code",
   "execution_count": null,
   "metadata": {},
   "outputs": [],
   "source": [
    "# 새로 작성한 코드만 \n",
    "\n",
    "cast_embedding_mlp = self.cast_embeddig(feats[2])\n",
    "        ###########################################################################\n",
    "input_feature = torch.cat((user_embedding_mlp, item_embedding_mlp, genre_embedding_mlp, cast_embedding_mlp, feats[0].unsqueeze(1)), -1)\n",
    "mlp_output = self.mlp_layers(input_feature)\n",
    "        \n",
    "output = torch.cat([mlp_output, mf_output], dim=-1)\n",
    "output = self.affine_output(output).squeeze(-1)\n",
    "\n",
    "features = []\n",
    "for item_id in np.concatenate([pos_item_ids, neg_item_ids]): \n",
    "        features.append(item_features['cast_1'][item_id])\n",
    "        \n",
    "UIdataset[user_id].append(np.array(features))"
   ]
  }
 ],
 "metadata": {
  "kernelspec": {
   "display_name": "Python 3",
   "language": "python",
   "name": "python3"
  },
  "language_info": {
   "name": "python",
   "version": "3.10.9 (v3.10.9:1dd9be6584, Dec  6 2022, 14:37:36) [Clang 13.0.0 (clang-1300.0.29.30)]"
  },
  "orig_nbformat": 4,
  "vscode": {
   "interpreter": {
    "hash": "aee8b7b246df8f9039afb4144a1f6fd8d2ca17a180786b69acc140d282b71a49"
   }
  }
 },
 "nbformat": 4,
 "nbformat_minor": 2
}
